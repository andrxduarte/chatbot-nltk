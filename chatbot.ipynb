{
 "cells": [
  {
   "cell_type": "code",
   "execution_count": 1,
   "id": "d95f3006",
   "metadata": {},
   "outputs": [],
   "source": [
    "from nltk.chat.util import Chat, reflections"
   ]
  },
  {
   "cell_type": "code",
   "execution_count": 3,
   "id": "c664e24c",
   "metadata": {},
   "outputs": [],
   "source": [
    "my_dummy_reflections= {\n",
    "    \"oi\"    : \"ola\"\n",
    "}"
   ]
  },
  {
   "cell_type": "code",
   "execution_count": null,
   "id": "6fd2ef9e",
   "metadata": {},
   "outputs": [],
   "source": [
    "#Pairs is a list of patterns and responses.\n",
    "pairs = [\n",
    "    [\n",
    "        r'(.*)o meu nome é(.*)',\n",
    "        ['Olá %2, Como está hoje?',]\n",
    "    ],\n",
    "    [\n",
    "        r'(.*)ajuda(.*)',\n",
    "        ['Eu posso ajudar-lhe',]\n",
    "    ],\n",
    "     [\n",
    "        r'(.*) o seu nome',\n",
    "        ['O meu criador ainda não me nomeou, mas você pode me chamar de robô e eu sou um chatbot.',]\n",
    "    ],\n",
    "    [\n",
    "        r'(tudo bem?|Como está?)(.*) ?',\n",
    "        ['Estou muito bem', 'Estou ótimo!']\n",
    "    ],\n",
    "    [\n",
    "        r'desculpe (.*)',\n",
    "        [\"Its alright\",\"Its OK, never mind that\",]\n",
    "    ],\n",
    "    [\n",
    "        r'Eu estou (.*) (bem|ótimo|ok|bem tambem)',\n",
    "        ['É bom ouvir isso', 'Muito bem, ótimo!',]\n",
    "    ],\n",
    "    [\n",
    "        r'(E ai|ola|oi)(.*)',\n",
    "        ['Olá', 'Oi, estou aqui',]\n",
    "    ],\n",
    "    [\n",
    "        r'quem (.*)(criou|criado)',\n",
    "        ['André Duarte criou-me usando Python com a biblioteca NLTK e pretende me aperfeiçoar','ultrassecreto, shhh',]\n",
    "    ],\n",
    "    [\n",
    "        r'(.*) (localização|cidade) ?',\n",
    "        ['Eu sou do Rio de Janeiro',]\n",
    "    ],\n",
    "    [\n",
    "        r'como (.*) a saude (.*)',\n",
    "        ['A saúde é muito importante, mas eu sou um computador, por isso não preciso de me preocupar',]\n",
    "    ],\n",
    "    [\n",
    "        r\"(.*)(sports|game|sport)(.*)\",\n",
    "        [\"I'm a very big fan of Cricket\",]\n",
    "    ],\n",
    "    [\n",
    "        r\"who (.*) (Cricketer|Batsman)?\",\n",
    "        [\"Virat Kohli\"]\n",
    "    ],\n",
    "    [\n",
    "        r'sair',\n",
    "        ['Adeus por agora. Até breve :) ','Foi um prazer falar convosco. Até breve :)']\n",
    "    ],\n",
    "    [\n",
    "        r'(.*)',\n",
    "        ['Poxa, desculpe-me eu ainda nao aprendi isso :(']\n",
    "    ],\n",
    "    [\n",
    "        r'(.*) anos',\n",
    "        ['Eu fui criado a alguns dias']\n",
    "    ],\n",
    "]"
   ]
  },
  {
   "cell_type": "code",
   "execution_count": null,
   "id": "a58f048d",
   "metadata": {},
   "outputs": [
    {
     "name": "stdout",
     "output_type": "stream",
     "text": [
      "Olá, sou um robô e gosto de conversar.\n",
      "Por favor, escreva somente em português usando letras minúsculas e sem acentuação para iniciar uma conversa.\n",
      "Digite \"sair\" para encerrar a conversa\n",
      ">ola\n",
      "Oi, estou aqui\n",
      ">tudo bem\n",
      "Estou ótimo!\n"
     ]
    }
   ],
   "source": [
    "print(\"Olá, sou um robô e gosto de conversar.\")\n",
    "print('Por favor, escreva somente em português usando letras minúsculas e sem acentuação para iniciar uma conversa.')\n",
    "print('Digite \"sair\" para encerrar a conversa')\n",
    "#Create Chat Bot\n",
    "chat = Chat(pairs, reflections)\n",
    "#Start conversationsair\n",
    "chat.converse()\n",
    "\n",
    "#if converse == 'sair':\n",
    "  #print('teste')"
   ]
  },
  {
   "cell_type": "code",
   "execution_count": null,
   "id": "10230997",
   "metadata": {},
   "outputs": [],
   "source": []
  }
 ],
 "metadata": {
  "kernelspec": {
   "display_name": "Python 3 (ipykernel)",
   "language": "python",
   "name": "python3"
  },
  "language_info": {
   "codemirror_mode": {
    "name": "ipython",
    "version": 3
   },
   "file_extension": ".py",
   "mimetype": "text/x-python",
   "name": "python",
   "nbconvert_exporter": "python",
   "pygments_lexer": "ipython3",
   "version": "3.9.12"
  }
 },
 "nbformat": 4,
 "nbformat_minor": 5
}
