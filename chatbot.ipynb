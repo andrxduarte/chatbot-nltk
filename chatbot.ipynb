{
 "cells": [
  {
   "cell_type": "code",
   "execution_count": 10,
   "id": "b3db041b",
   "metadata": {},
   "outputs": [],
   "source": [
    "from nltk.chat.util import Chat, reflections"
   ]
  },
  {
   "cell_type": "code",
   "execution_count": 11,
   "id": "8df046db",
   "metadata": {},
   "outputs": [],
   "source": [
    "#aprimorar sintaxe\n",
    "my_dummy_reflections= {\n",
    "    'oi'    : 'ola'\n",
    "}"
   ]
  },
  {
   "cell_type": "code",
   "execution_count": 15,
   "id": "f3e2d2d5",
   "metadata": {},
   "outputs": [],
   "source": [
    "pairs = [\n",
    "    [\n",
    "        r'(.*)o meu nome é(.*)',\n",
    "        ['Olá %2, Como está hoje?',]\n",
    "    ],\n",
    "    [\n",
    "        r'(.*)ajuda(.*)',\n",
    "        ['Eu posso ajudar-lhe',]\n",
    "    ],\n",
    "     [\n",
    "        r'(.*) o seu (nome|chama) ?',\n",
    "        ['O meu criador ainda não me nomeou, mas você pode me chamar de robô e eu sou um chatbot.',]\n",
    "    ],\n",
    "    [\n",
    "        r'(tudo bem?|Como está?)(.*) ?',\n",
    "        ['Estou muito bem', 'Estou ótimo!','Obrigado por perguntar, eu estou bem']\n",
    "    ],\n",
    "    [\n",
    "        r'desculpe (.*)',\n",
    "        [\"Está tudo bem\",'Está tudo bem, isso não importa',]\n",
    "    ],\n",
    "    [\n",
    "        r'Eu estou (.*) (bem|ótimo|ok|bem tambem)',\n",
    "        ['É bom ouvir isso', 'Muito bem, ótimo!',]\n",
    "    ],\n",
    "    [\n",
    "        r'(E ai|ola|oi)(.*)',\n",
    "        ['Olá', 'Oi, estou aqui',]\n",
    "    ],\n",
    "    [\n",
    "        r'quem (.*)(criou|criado)',\n",
    "        ['André Duarte criou-me usando Python com a biblioteca NLTK e pá aqui estou eu','ultrassecreto, shhh',]\n",
    "    ],\n",
    "    [\n",
    "        r'(.*) (localização|cidade) ?',\n",
    "        ['Eu sou do Rio de Janeiro, mas atualmente vivo numa IDE de Python',]\n",
    "    ],\n",
    "    [\n",
    "        r'como esta (.*) saude (.*)',\n",
    "        ['A saúde é muito importante, mas eu sou um computador, por isso não preciso de me preocupar',\n",
    "         'Às vezes tenho um bug, mas estou sempre tento consertos']\n",
    "    ],\n",
    "    [\n",
    "        r'sair',\n",
    "        ['Adeus por agora. Até breve :) ',\n",
    "         'Foi um prazer falar convosco. Até breve :)',\n",
    "        'Tudo bem. Me diga se houver algo mais que eu posso fazer por você']\n",
    "    ],\n",
    "    [\n",
    "        r'(.*)',\n",
    "        ['Poxa, desculpe-me eu ainda não aprendi isso :(']\n",
    "    ],\n",
    "    [\n",
    "        r'(quantos|qual) (.*) (anos|idade) ?',\n",
    "        ['Eu fui criado a alguns dias']\n",
    "    ],\n",
    "]"
   ]
  },
  {
   "cell_type": "code",
   "execution_count": null,
   "id": "462dcf13",
   "metadata": {},
   "outputs": [
    {
     "name": "stdout",
     "output_type": "stream",
     "text": [
      "Olá, sou um robô e gosto de conversar.\n",
      "Por favor, escreva somente em português usando letras minúsculas e sem acentuação para iniciar uma conversa.\n",
      "Digite \"sair\" para encerrar a conversa\n",
      "\n",
      ">oi\n",
      "Olá\n",
      ">tudo bem?\n",
      "Estou muito bem\n",
      ">qual a sua idade?\n",
      "Poxa, desculpe-me eu ainda não aprendi isso :(\n",
      ">quem te criou?\n",
      "ultrassecreto, shhh\n",
      ">qual a sua cidade?\n",
      "Eu sou do Rio de Janeiro, mas atualmente vivo numa IDE de Python\n",
      ">sair\n",
      "Foi um prazer falar convosco. Até breve :)\n"
     ]
    }
   ],
   "source": [
    "print(\"Olá, sou um robô e gosto de conversar.\")\n",
    "print('Por favor, escreva somente em português usando letras minúsculas e sem acentuação para iniciar uma conversa.')\n",
    "print('Digite \"sair\" para encerrar a conversa')\n",
    "print('')\n",
    "#criar o chat com robo\n",
    "chat = Chat(pairs, reflections)\n",
    "#inicio da conversa\n",
    "chat.converse()\n",
    "\n",
    "#if converse == 'sair':\n",
    "  #print('teste')"
   ]
  },
  {
   "cell_type": "code",
   "execution_count": null,
   "id": "99c2085f",
   "metadata": {},
   "outputs": [],
   "source": []
  }
 ],
 "metadata": {
  "kernelspec": {
   "display_name": "Python 3 (ipykernel)",
   "language": "python",
   "name": "python3"
  },
  "language_info": {
   "codemirror_mode": {
    "name": "ipython",
    "version": 3
   },
   "file_extension": ".py",
   "mimetype": "text/x-python",
   "name": "python",
   "nbconvert_exporter": "python",
   "pygments_lexer": "ipython3",
   "version": "3.9.12"
  }
 },
 "nbformat": 4,
 "nbformat_minor": 5
}
